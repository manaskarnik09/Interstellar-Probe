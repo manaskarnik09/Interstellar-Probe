{
 "cells": [
  {
   "cell_type": "code",
   "execution_count": 9,
   "id": "fb9e2256-ceed-4040-bc0d-edadfd3233c7",
   "metadata": {},
   "outputs": [],
   "source": [
    "#Imports\n",
    "import pykep as pk\n",
    "import pygmo as pg\n",
    "import pygmo_plugins_nonfree as ppnf\n",
    "algo = pg.algorithm(ppnf.snopt7(True))  # True enables verbose\n",
    "from pykep.planet import jpl_lp\n",
    "from pykep import epoch\n",
    "import numpy as np\n",
    "import matplotlib.pyplot as plt\n",
    "import math\n",
    "\n",
    "# Load Spice Kernel\n",
    "pk.util.load_spice_kernel(\"/home/m/mmk40/Desktop/Planet Position/de431.bsp\")"
   ]
  },
  {
   "cell_type": "code",
   "execution_count": 26,
   "id": "0e9a3a53-263e-4fd9-9a91-e2971c8e1532",
   "metadata": {},
   "outputs": [],
   "source": [
    "#Define Planetary Ephimeris\n",
    "earth = pk.planet.spice('EARTH', 'SUN', 'ECLIPJ2000', 'NONE')                    # position of Earth using spice kernel\n",
    "venus = pk.planet.spice('VENUS', 'SUN', 'ECLIPJ2000', 'NONE')                    # position of Venus using spice kernel\n",
    "jupiter = pk.planet.spice(\"JUPITER BARYCENTER\", 'SUN', 'ECLIPJ2000', 'NONE')     # position of Jupiter using spice kernel\n",
    "mercury = pk.planet.spice(\"MERCURY\", 'SUN', 'ECLIPJ2000', 'NONE')                # position of Mercury using spice kernel\n",
    "#print(earth, venus, jupiter)                                                    # print checks\n",
    "\n",
    "# Define Planetary safe radius or else it gives an error in the problem if using spice\n",
    "\n",
    "earth.radius = 6371.0          # Earth's mean radius and safe radius (Earth radius + atmosphere ~ 6371 km + 200 km)\n",
    "earth.safe_radius = 6571.0     # 200 km safety margin\n",
    "\n",
    "venus.radius = 6052.0          # Venus radius and safe radius (Venus mean radius ~ 6052 km)\n",
    "venus.safe_radius = 10         # 10 times Venus radius\n",
    "\n",
    "jupiter.radius = 69911.0       # Jupiter radius and safe radius (mean radius ~ 69911 km)\n",
    "jupiter.safe_radius = 30       # 20 times Jupiter Radius\n",
    "\n",
    "#print(\"Venus radius:\", venus.radius, type(venus.radius))                    # print checks\n",
    "#print(\"Venus safe radius:\", venus.safe_radius, type(venus.safe_radius))     # print checks\n",
    "#print(\"Normalized safe radius:\", venus.safe_radius / venus.radius)          # print checks\n",
    "\n",
    "\n",
    "\n",
    "# Define Launch and Arrival Dates\n",
    "departure = int(pk.epoch_from_string(\"1850-Jan-01 00:00:00\").mjd2000)  # ≈ 12784; Turns the date into mjd\n",
    "arrival = int(pk.epoch_from_string(\"2040-Jan-01 00:00:00\").mjd2000)    # ≈ 18262; Turns the date into mjd\n",
    "#print(departure, arrival)                                              # print checks"
   ]
  },
  {
   "cell_type": "code",
   "execution_count": 47,
   "id": "072de3d6-3c34-49fa-bf0c-36b6bdab1207",
   "metadata": {},
   "outputs": [],
   "source": [
    "# Define the problem i.e. Earth-Venus-Jupiter flyby with 1 DSM.\n",
    "udp = pk.trajopt.mga_1dsm(\n",
    "    seq=[jpl_lp('earth'), jpl_lp('venus'), jpl_lp('earth'), jpl_lp('jupiter')],\n",
    "    t0=[epoch(departure),epoch(arrival)],             # Departure window (in MJD2000)\n",
    "    tof=[[250,480], [300,400], [300,900]],       # TOF for Earth→Venus, Venus→Jupiter\n",
    "    vinf=[6.0,10.0],                      # Departure hyperbolic excess speed [km/s]\n",
    "    add_vinf_dep=False,                   # Objective includes v-infinity at Earth/Venus\n",
    "    add_vinf_arr=False                   # # Objective includes v-infinity at Venus/Jupiter\n",
    ")"
   ]
  },
  {
   "cell_type": "code",
   "execution_count": 48,
   "id": "6786f956-4b45-4c18-9e1d-f5b703c37071",
   "metadata": {},
   "outputs": [],
   "source": [
    "# Create Pygmo set and tolerences\n",
    "prob = pg.problem(udp)\n",
    "prob.c_tol = 1e-4\n",
    "#print(prob)   # print check\n",
    "#print(\"Lower bounds:\", prob.get_lb())\n",
    "#print(\"Upper bounds:\", prob.get_ub())"
   ]
  },
  {
   "cell_type": "code",
   "execution_count": 55,
   "id": "c262ab85-b38c-466d-9204-4cc7104b9853",
   "metadata": {},
   "outputs": [
    {
     "name": "stdout",
     "output_type": "stream",
     "text": [
      "Running SADE global search ...\n",
      "Global best objective: [1243.32729534]\n",
      "\n",
      "\n",
      "Polishing best candidate with BOBYQA (open-source local solver) ...\n",
      "Polished objective: [1243.32729533]\n",
      "First Leg: earth to venus\n",
      "Departure: 1983-Feb-13 00:59:24.641437 (-6165.958742575955 mjd2000) \n",
      "Duration: 349.6920147512976days\n",
      "VINF: 6.000000000329764 km/sec\n",
      "DSM after 133.7879645646639 days\n",
      "DSM magnitude: 6.305761104561466e-08m/s\n",
      "\n",
      "leg no. 2: venus to earth\n",
      "Duration: 392.23212605222767days\n",
      "Fly-by epoch: 1984-Jan-28 17:35:54.715950 (-5816.266727824657 mjd2000) \n",
      "Fly-by radius: 2.1612077373497716 planetary radii\n",
      "DSM after 192.84787906682675 days\n",
      "DSM magnitude: 4.3665021400897826e-08m/s\n",
      "\n",
      "leg no. 3: earth to jupiter\n",
      "Duration: 886.7326027818042days\n",
      "Fly-by epoch: 1985-Feb-23 23:10:10.406862 (-5424.03460177243 mjd2000) \n",
      "Fly-by radius: 1.1000000000000005 planetary radii\n",
      "DSM after 88.67326027818042 days\n",
      "DSM magnitude: 1243.3272952271614m/s\n",
      "\n",
      "Arrival at jupiter\n",
      "Arrival epoch: 1987-Jul-30 16:45:07.287210 (-4537.301998990625 mjd2000) \n",
      "Arrival Vinf: 6273.411602248728m/s\n",
      "Total mission time: 4.459019147393099 years (1628.6567435853294 days)\n"
     ]
    }
   ],
   "source": [
    "# --- Global search with SADE ---\n",
    "uda = pg.sade(gen=8000)  # increase generations for better coverage\n",
    "archi = pg.archipelago(algo=uda, prob=prob, n=30, pop_size=60)\n",
    "\n",
    "print(\"Running SADE global search ...\")\n",
    "archi.evolve(25)\n",
    "archi.wait()\n",
    "\n",
    "# Extract champion\n",
    "champ_fs = archi.get_champions_f()\n",
    "champ_xs = archi.get_champions_x()\n",
    "idx = np.argmin([f[0] if hasattr(f,'__len__') else f for f in champ_fs])\n",
    "best_x = champ_xs[idx]\n",
    "print(\"Global best objective:\", champ_fs[idx])\n",
    "#udp.pretty(archi.get_champions_x()[idx])\n",
    "\n",
    "# --- Local refinement with NLopt BOBYQA ---\n",
    "print(\"\\n\\nPolishing best candidate with BOBYQA (open-source local solver) ...\")\n",
    "local_algo = pg.algorithm(pg.nlopt('bobyqa'))\n",
    "local_prob = pg.problem(udp)\n",
    "pop = pg.population(local_prob, size=1)\n",
    "pop.set_x(0, best_x)\n",
    "pop = local_algo.evolve(pop)\n",
    "\n",
    "# Final solution\n",
    "final_x = pop.get_x()[0]\n",
    "final_f = pop.get_f()[0]\n",
    "print(\"Polished objective:\", final_f)\n",
    "\n",
    "udp.pretty(final_x)"
   ]
  },
  {
   "cell_type": "code",
   "execution_count": null,
   "id": "1f1173a8-077e-47ba-8c2b-111da5329ef6",
   "metadata": {},
   "outputs": [],
   "source": [
    "# Choose optimization algorithm\n",
    "uda = pg.sade(gen=6000)\n",
    "\n",
    "# Initialize population and optimize\n",
    "archi = pg.archipelago(algo=uda, prob=udp, n=20, pop_size=40)\n",
    "print(\"Running a Self-Adaptive Differential Evolution Algorithm .... on 10 parallel islands\")\n",
    "archi.evolve(15)\n",
    "archi.wait()\n",
    "sols = archi.get_champions_f()\n",
    "idx = sols.index(min(sols))\n",
    "print(\"Done!! Solutions found are: \", archi.get_champions_f())\n",
    "udp.pretty(archi.get_champions_x()[idx])"
   ]
  },
  {
   "cell_type": "code",
   "execution_count": null,
   "id": "6d074f4c-7105-4d18-a724-80d4f21ed7bb",
   "metadata": {},
   "outputs": [],
   "source": []
  }
 ],
 "metadata": {
  "kernelspec": {
   "display_name": "Python 3 (ipykernel)",
   "language": "python",
   "name": "python3"
  },
  "language_info": {
   "codemirror_mode": {
    "name": "ipython",
    "version": 3
   },
   "file_extension": ".py",
   "mimetype": "text/x-python",
   "name": "python",
   "nbconvert_exporter": "python",
   "pygments_lexer": "ipython3",
   "version": "3.13.3"
  }
 },
 "nbformat": 4,
 "nbformat_minor": 5
}
