{
 "cells": [
  {
   "cell_type": "code",
   "execution_count": 11,
   "id": "89d498f3-6538-45ae-b79e-95b4fe7b3c9c",
   "metadata": {},
   "outputs": [],
   "source": [
    "#Imports\n",
    "import pykep as pk\n",
    "import pygmo as pg\n",
    "import pygmo_plugins_nonfree as ppnf\n",
    "from pykep.planet import jpl_lp\n",
    "from pykep import epoch\n",
    "import numpy as np\n",
    "import matplotlib.pyplot as plt\n",
    "import math\n",
    "import random"
   ]
  },
  {
   "cell_type": "code",
   "execution_count": 46,
   "id": "4f119cfe-8c10-45aa-9ab4-ae04e07d288b",
   "metadata": {},
   "outputs": [],
   "source": [
    "# Define Launch and Arrival Dates\n",
    "departure = int(pk.epoch_from_string(\"1997-Oct-13 00:00:00\").mjd2000)  # Turns the date into mjd\n",
    "arrival = int(pk.epoch_from_string(\"1997-Oct-16 00:00:00\").mjd2000)    # Turns the date into mjd\n",
    "#print(departure, arrival)                                             # print checks"
   ]
  },
  {
   "cell_type": "code",
   "execution_count": 51,
   "id": "c75a13be-4285-46fb-bd3b-40de5fe7afb4",
   "metadata": {},
   "outputs": [],
   "source": [
    "# Define the problem i.e. Earth-Venus-Jupiter flyby with 1 DSM.\n",
    "udp = pk.trajopt.mga_1dsm(\n",
    "    seq=[jpl_lp('earth'), jpl_lp('venus'), jpl_lp('venus')],\n",
    "    t0=[epoch(departure),epoch(arrival)],             # Departure window (in MJD2000)\n",
    "    tof=[[190,200], [415,425]],                       # TOF for Earth→Venus, Venus→Jupiter\n",
    "    vinf=[4.07, 4.25],                                # Departure hyperbolic excess speed [km/s]\n",
    "    add_vinf_dep=True,                                # Objective includes v-infinity at Earth/Venus\n",
    "    add_vinf_arr=False                                # Objective includes v-infinity at Venus/Jupiter\n",
    ")"
   ]
  },
  {
   "cell_type": "code",
   "execution_count": 53,
   "id": "3fa12864-bb9b-4b23-8e3d-8db7d1998246",
   "metadata": {},
   "outputs": [
    {
     "name": "stdout",
     "output_type": "stream",
     "text": [
      "Running a Self-Adaptive Differential Evolution Algorithm .... on 16 parallel islands\n",
      "Done!! Solutions found are:  [array([4402.55648221]), array([4402.55648253]), array([4402.55648228]), array([4402.55648247]), array([4402.55648248]), array([4402.55648247]), array([7860.58687411]), array([4402.55648244])]\n",
      "First Leg: earth to venus\n",
      "Departure: 1997-Oct-15 23:59:59.999946 (-807.0000000006293 mjd2000) \n",
      "Duration: 194.47836586103543days\n",
      "VINF: 4.0700000006530255 km/sec\n",
      "DSM after 38.27934827305565 days\n",
      "DSM magnitude: 66.48108754322708m/s\n",
      "\n",
      "leg no. 2: venus to venus\n",
      "Duration: 424.9999999996942days\n",
      "Fly-by epoch: 1998-Apr-28 11:28:50.810339 (-612.5216341395939 mjd2000) \n",
      "Fly-by radius: 1.4368292109145913 planetary radii\n",
      "DSM after 210.61418930449983 days\n",
      "DSM magnitude: 266.0753940098629m/s\n",
      "\n",
      "Arrival at venus\n",
      "Arrival epoch: 1999-Jun-27 11:28:50.810313 (-187.52163413989967 mjd2000) \n",
      "Arrival Vinf: 8248.1499094826m/s\n",
      "Total mission time: 1.6960393315831064 years (619.4783658607296 days)\n"
     ]
    }
   ],
   "source": [
    "# Create Pygmo set\n",
    "prob = pg.problem(udp)\n",
    "\n",
    "# Define the Algorithm\n",
    "uda = pg.de(gen=500)\n",
    "archi = pg.archipelago(algo=uda, prob=udp, n=8, pop_size=20)\n",
    "print(\"Running a Self-Adaptive Differential Evolution Algorithm .... on 16 parallel islands\")\n",
    "archi.evolve(30)\n",
    "archi.wait()\n",
    "sols = archi.get_champions_f()\n",
    "idx = sols.index(min(sols))\n",
    "print(\"Done!! Solutions found are: \", archi.get_champions_f())\n",
    "udp.pretty(archi.get_champions_x()[idx])"
   ]
  },
  {
   "cell_type": "code",
   "execution_count": 6,
   "id": "4a6103ed-422d-4f91-93d4-8ec137f8782f",
   "metadata": {},
   "outputs": [
    {
     "name": "stdout",
     "output_type": "stream",
     "text": [
      "Example objective values: [array([286.23795862]), array([286.23795867]), array([286.23795884])]\n",
      "Problem dimension: 10\n",
      "Bounds: [ 0.00000000e+00  0.00000000e+00  0.00000000e+00  5.00000000e+02\n",
      "  1.00000000e-01  5.00000000e+01 -6.28318531e+00  1.10000000e+00\n",
      "  1.00000000e-01  5.00000000e+01] [1.00000000e+03 1.00000000e+00 1.00000000e+00 2.50000000e+03\n",
      " 9.00000000e-01 9.00000000e+02 6.28318531e+00 3.00000000e+01\n",
      " 9.00000000e-01 9.00000000e+02]\n",
      "Sample solution: [5.68632581e+02 5.99110400e-01 3.40396164e-01 2.50000000e+03\n",
      " 8.25212248e-01 7.23895714e+02 3.05295586e+00 3.00000000e+01\n",
      " 8.14500613e-01 7.52806560e+02]\n"
     ]
    }
   ],
   "source": [
    "# Problem details\n",
    "print(\"Example objective values:\", sols[:3])\n",
    "print(\"Problem dimension:\", prob.get_nx())\n",
    "print(\"Bounds:\", prob.get_lb(), prob.get_ub())\n",
    "x = archi.get_champions_x()[idx]\n",
    "print(\"Sample solution:\", x)"
   ]
  },
  {
   "cell_type": "code",
   "execution_count": null,
   "id": "a4f530c0-55ab-48a3-85ad-81bec632a0b8",
   "metadata": {},
   "outputs": [],
   "source": []
  }
 ],
 "metadata": {
  "kernelspec": {
   "display_name": "Python 3 (ipykernel)",
   "language": "python",
   "name": "python3"
  },
  "language_info": {
   "codemirror_mode": {
    "name": "ipython",
    "version": 3
   },
   "file_extension": ".py",
   "mimetype": "text/x-python",
   "name": "python",
   "nbconvert_exporter": "python",
   "pygments_lexer": "ipython3",
   "version": "3.13.3"
  }
 },
 "nbformat": 4,
 "nbformat_minor": 5
}
